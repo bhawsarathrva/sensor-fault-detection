{
 "cells": [
  {
   "cell_type": "code",
   "execution_count": 6,
   "metadata": {},
   "outputs": [
    {
     "name": "stdout",
     "output_type": "stream",
     "text": [
      "Defaulting to user installation because normal site-packages is not writeable\n",
      "Requirement already satisfied: mtcnn in c:\\users\\athrv\\appdata\\roaming\\python\\python311\\site-packages (1.0.0)\n",
      "Requirement already satisfied: joblib>=1.4.2 in c:\\users\\athrv\\appdata\\roaming\\python\\python311\\site-packages (from mtcnn) (1.4.2)\n",
      "Requirement already satisfied: lz4>=4.3.3 in c:\\users\\athrv\\appdata\\roaming\\python\\python311\\site-packages (from mtcnn) (4.4.3)\n"
     ]
    }
   ],
   "source": [
    "!pip install mtcnn"
   ]
  },
  {
   "cell_type": "code",
   "execution_count": null,
   "metadata": {},
   "outputs": [
    {
     "ename": "ModuleNotFoundError",
     "evalue": "No module named 'google.protobuf'",
     "output_type": "error",
     "traceback": [
      "\u001b[1;31m---------------------------------------------------------------------------\u001b[0m",
      "\u001b[1;31mModuleNotFoundError\u001b[0m                       Traceback (most recent call last)",
      "Cell \u001b[1;32mIn[7], line 9\u001b[0m\n\u001b[0;32m      6\u001b[0m sys\u001b[38;5;241m.\u001b[39mpath\u001b[38;5;241m.\u001b[39mappend(\u001b[38;5;124m'\u001b[39m\u001b[38;5;124m../insightface/deploy\u001b[39m\u001b[38;5;124m'\u001b[39m)\n\u001b[0;32m      7\u001b[0m sys\u001b[38;5;241m.\u001b[39mpath\u001b[38;5;241m.\u001b[39mappend(\u001b[38;5;124m'\u001b[39m\u001b[38;5;124m../insightface/src/common\u001b[39m\u001b[38;5;124m'\u001b[39m)\n\u001b[1;32m----> 9\u001b[0m \u001b[38;5;28;01mfrom\u001b[39;00m \u001b[38;5;21;01mmtcnn\u001b[39;00m\u001b[38;5;21;01m.\u001b[39;00m\u001b[38;5;21;01mmtcnn\u001b[39;00m \u001b[38;5;28;01mimport\u001b[39;00m MTCNN\n\u001b[0;32m     10\u001b[0m \u001b[38;5;66;03m# import face_preprocess\u001b[39;00m\n\u001b[0;32m     11\u001b[0m \u001b[38;5;28;01mimport\u001b[39;00m \u001b[38;5;21;01mnumpy\u001b[39;00m \u001b[38;5;28;01mas\u001b[39;00m \u001b[38;5;21;01mnp\u001b[39;00m\n",
      "File \u001b[1;32m~\\AppData\\Roaming\\Python\\Python311\\site-packages\\mtcnn\\__init__.py:23\u001b[0m\n\u001b[0;32m      1\u001b[0m \u001b[38;5;66;03m# MIT License\u001b[39;00m\n\u001b[0;32m      2\u001b[0m \u001b[38;5;66;03m#\u001b[39;00m\n\u001b[0;32m      3\u001b[0m \u001b[38;5;66;03m# Copyright (c) 2019-2024 Iván de Paz Centeno\u001b[39;00m\n\u001b[1;32m   (...)\u001b[0m\n\u001b[0;32m     20\u001b[0m \u001b[38;5;66;03m# OUT OF OR IN CONNECTION WITH THE SOFTWARE OR THE USE OR OTHER DEALINGS IN THE\u001b[39;00m\n\u001b[0;32m     21\u001b[0m \u001b[38;5;66;03m# SOFTWARE.\u001b[39;00m\n\u001b[1;32m---> 23\u001b[0m \u001b[38;5;28;01mfrom\u001b[39;00m \u001b[38;5;21;01mmtcnn\u001b[39;00m\u001b[38;5;21;01m.\u001b[39;00m\u001b[38;5;21;01mmtcnn\u001b[39;00m \u001b[38;5;28;01mimport\u001b[39;00m MTCNN\n\u001b[0;32m     25\u001b[0m __all__ \u001b[38;5;241m=\u001b[39m [\u001b[38;5;124m\"\u001b[39m\u001b[38;5;124mMTCNN\u001b[39m\u001b[38;5;124m\"\u001b[39m]\n",
      "File \u001b[1;32m~\\AppData\\Roaming\\Python\\Python311\\site-packages\\mtcnn\\mtcnn.py:23\u001b[0m\n\u001b[0;32m      1\u001b[0m \u001b[38;5;66;03m# MIT License\u001b[39;00m\n\u001b[0;32m      2\u001b[0m \u001b[38;5;66;03m#\u001b[39;00m\n\u001b[0;32m      3\u001b[0m \u001b[38;5;66;03m# Copyright (c) 2019-2024 Iván de Paz Centeno\u001b[39;00m\n\u001b[1;32m   (...)\u001b[0m\n\u001b[0;32m     20\u001b[0m \u001b[38;5;66;03m# OUT OF OR IN CONNECTION WITH THE SOFTWARE OR THE USE OR OTHER DEALINGS IN THE\u001b[39;00m\n\u001b[0;32m     21\u001b[0m \u001b[38;5;66;03m# SOFTWARE.\u001b[39;00m\n\u001b[1;32m---> 23\u001b[0m \u001b[38;5;28;01mimport\u001b[39;00m \u001b[38;5;21;01mtensorflow\u001b[39;00m \u001b[38;5;28;01mas\u001b[39;00m \u001b[38;5;21;01mtf\u001b[39;00m\n\u001b[0;32m     24\u001b[0m \u001b[38;5;28;01mimport\u001b[39;00m \u001b[38;5;21;01mnumpy\u001b[39;00m \u001b[38;5;28;01mas\u001b[39;00m \u001b[38;5;21;01mnp\u001b[39;00m\n\u001b[0;32m     26\u001b[0m \u001b[38;5;28;01mfrom\u001b[39;00m \u001b[38;5;21;01mmtcnn\u001b[39;00m\u001b[38;5;21;01m.\u001b[39;00m\u001b[38;5;21;01mstages\u001b[39;00m \u001b[38;5;28;01mimport\u001b[39;00m StagePNet, StageRNet, StageONet\n",
      "File \u001b[1;32m~\\AppData\\Roaming\\Python\\Python311\\site-packages\\tensorflow\\__init__.py:49\u001b[0m\n\u001b[0;32m     46\u001b[0m \u001b[38;5;28;01mfrom\u001b[39;00m \u001b[38;5;21;01mtensorflow\u001b[39;00m\u001b[38;5;21;01m.\u001b[39;00m\u001b[38;5;21;01mpython\u001b[39;00m \u001b[38;5;28;01mimport\u001b[39;00m tf2 \u001b[38;5;28;01mas\u001b[39;00m _tf2\n\u001b[0;32m     47\u001b[0m _tf2\u001b[38;5;241m.\u001b[39menable()\n\u001b[1;32m---> 49\u001b[0m \u001b[38;5;28;01mfrom\u001b[39;00m \u001b[38;5;21;01mtensorflow\u001b[39;00m\u001b[38;5;21;01m.\u001b[39;00m\u001b[38;5;21;01m_api\u001b[39;00m\u001b[38;5;21;01m.\u001b[39;00m\u001b[38;5;21;01mv2\u001b[39;00m \u001b[38;5;28;01mimport\u001b[39;00m __internal__\n\u001b[0;32m     50\u001b[0m \u001b[38;5;28;01mfrom\u001b[39;00m \u001b[38;5;21;01mtensorflow\u001b[39;00m\u001b[38;5;21;01m.\u001b[39;00m\u001b[38;5;21;01m_api\u001b[39;00m\u001b[38;5;21;01m.\u001b[39;00m\u001b[38;5;21;01mv2\u001b[39;00m \u001b[38;5;28;01mimport\u001b[39;00m __operators__\n\u001b[0;32m     51\u001b[0m \u001b[38;5;28;01mfrom\u001b[39;00m \u001b[38;5;21;01mtensorflow\u001b[39;00m\u001b[38;5;21;01m.\u001b[39;00m\u001b[38;5;21;01m_api\u001b[39;00m\u001b[38;5;21;01m.\u001b[39;00m\u001b[38;5;21;01mv2\u001b[39;00m \u001b[38;5;28;01mimport\u001b[39;00m audio\n",
      "File \u001b[1;32m~\\AppData\\Roaming\\Python\\Python311\\site-packages\\tensorflow\\_api\\v2\\__internal__\\__init__.py:8\u001b[0m\n\u001b[0;32m      3\u001b[0m \u001b[38;5;124;03m\"\"\"Public API for tf._api.v2.__internal__ namespace\u001b[39;00m\n\u001b[0;32m      4\u001b[0m \u001b[38;5;124;03m\"\"\"\u001b[39;00m\n\u001b[0;32m      6\u001b[0m \u001b[38;5;28;01mimport\u001b[39;00m \u001b[38;5;21;01msys\u001b[39;00m \u001b[38;5;28;01mas\u001b[39;00m \u001b[38;5;21;01m_sys\u001b[39;00m\n\u001b[1;32m----> 8\u001b[0m \u001b[38;5;28;01mfrom\u001b[39;00m \u001b[38;5;21;01mtensorflow\u001b[39;00m\u001b[38;5;21;01m.\u001b[39;00m\u001b[38;5;21;01m_api\u001b[39;00m\u001b[38;5;21;01m.\u001b[39;00m\u001b[38;5;21;01mv2\u001b[39;00m\u001b[38;5;21;01m.\u001b[39;00m\u001b[38;5;21;01m__internal__\u001b[39;00m \u001b[38;5;28;01mimport\u001b[39;00m autograph\n\u001b[0;32m      9\u001b[0m \u001b[38;5;28;01mfrom\u001b[39;00m \u001b[38;5;21;01mtensorflow\u001b[39;00m\u001b[38;5;21;01m.\u001b[39;00m\u001b[38;5;21;01m_api\u001b[39;00m\u001b[38;5;21;01m.\u001b[39;00m\u001b[38;5;21;01mv2\u001b[39;00m\u001b[38;5;21;01m.\u001b[39;00m\u001b[38;5;21;01m__internal__\u001b[39;00m \u001b[38;5;28;01mimport\u001b[39;00m decorator\n\u001b[0;32m     10\u001b[0m \u001b[38;5;28;01mfrom\u001b[39;00m \u001b[38;5;21;01mtensorflow\u001b[39;00m\u001b[38;5;21;01m.\u001b[39;00m\u001b[38;5;21;01m_api\u001b[39;00m\u001b[38;5;21;01m.\u001b[39;00m\u001b[38;5;21;01mv2\u001b[39;00m\u001b[38;5;21;01m.\u001b[39;00m\u001b[38;5;21;01m__internal__\u001b[39;00m \u001b[38;5;28;01mimport\u001b[39;00m dispatch\n",
      "File \u001b[1;32m~\\AppData\\Roaming\\Python\\Python311\\site-packages\\tensorflow\\_api\\v2\\__internal__\\autograph\\__init__.py:8\u001b[0m\n\u001b[0;32m      3\u001b[0m \u001b[38;5;124;03m\"\"\"Public API for tf._api.v2.__internal__.autograph namespace\u001b[39;00m\n\u001b[0;32m      4\u001b[0m \u001b[38;5;124;03m\"\"\"\u001b[39;00m\n\u001b[0;32m      6\u001b[0m \u001b[38;5;28;01mimport\u001b[39;00m \u001b[38;5;21;01msys\u001b[39;00m \u001b[38;5;28;01mas\u001b[39;00m \u001b[38;5;21;01m_sys\u001b[39;00m\n\u001b[1;32m----> 8\u001b[0m \u001b[38;5;28;01mfrom\u001b[39;00m \u001b[38;5;21;01mtensorflow\u001b[39;00m\u001b[38;5;21;01m.\u001b[39;00m\u001b[38;5;21;01mpython\u001b[39;00m\u001b[38;5;21;01m.\u001b[39;00m\u001b[38;5;21;01mautograph\u001b[39;00m\u001b[38;5;21;01m.\u001b[39;00m\u001b[38;5;21;01mcore\u001b[39;00m\u001b[38;5;21;01m.\u001b[39;00m\u001b[38;5;21;01mag_ctx\u001b[39;00m \u001b[38;5;28;01mimport\u001b[39;00m control_status_ctx \u001b[38;5;66;03m# line: 34\u001b[39;00m\n\u001b[0;32m      9\u001b[0m \u001b[38;5;28;01mfrom\u001b[39;00m \u001b[38;5;21;01mtensorflow\u001b[39;00m\u001b[38;5;21;01m.\u001b[39;00m\u001b[38;5;21;01mpython\u001b[39;00m\u001b[38;5;21;01m.\u001b[39;00m\u001b[38;5;21;01mautograph\u001b[39;00m\u001b[38;5;21;01m.\u001b[39;00m\u001b[38;5;21;01mimpl\u001b[39;00m\u001b[38;5;21;01m.\u001b[39;00m\u001b[38;5;21;01mapi\u001b[39;00m \u001b[38;5;28;01mimport\u001b[39;00m tf_convert \u001b[38;5;66;03m# line: 493\u001b[39;00m\n",
      "File \u001b[1;32m~\\AppData\\Roaming\\Python\\Python311\\site-packages\\tensorflow\\python\\autograph\\core\\ag_ctx.py:21\u001b[0m\n\u001b[0;32m     18\u001b[0m \u001b[38;5;28;01mimport\u001b[39;00m \u001b[38;5;21;01minspect\u001b[39;00m\n\u001b[0;32m     19\u001b[0m \u001b[38;5;28;01mimport\u001b[39;00m \u001b[38;5;21;01mthreading\u001b[39;00m\n\u001b[1;32m---> 21\u001b[0m \u001b[38;5;28;01mfrom\u001b[39;00m \u001b[38;5;21;01mtensorflow\u001b[39;00m\u001b[38;5;21;01m.\u001b[39;00m\u001b[38;5;21;01mpython\u001b[39;00m\u001b[38;5;21;01m.\u001b[39;00m\u001b[38;5;21;01mautograph\u001b[39;00m\u001b[38;5;21;01m.\u001b[39;00m\u001b[38;5;21;01mutils\u001b[39;00m \u001b[38;5;28;01mimport\u001b[39;00m ag_logging\n\u001b[0;32m     22\u001b[0m \u001b[38;5;28;01mfrom\u001b[39;00m \u001b[38;5;21;01mtensorflow\u001b[39;00m\u001b[38;5;21;01m.\u001b[39;00m\u001b[38;5;21;01mpython\u001b[39;00m\u001b[38;5;21;01m.\u001b[39;00m\u001b[38;5;21;01mutil\u001b[39;00m\u001b[38;5;21;01m.\u001b[39;00m\u001b[38;5;21;01mtf_export\u001b[39;00m \u001b[38;5;28;01mimport\u001b[39;00m tf_export\n\u001b[0;32m     25\u001b[0m stacks \u001b[38;5;241m=\u001b[39m threading\u001b[38;5;241m.\u001b[39mlocal()\n",
      "File \u001b[1;32m~\\AppData\\Roaming\\Python\\Python311\\site-packages\\tensorflow\\python\\autograph\\utils\\__init__.py:17\u001b[0m\n\u001b[0;32m      1\u001b[0m \u001b[38;5;66;03m# Copyright 2016 The TensorFlow Authors. All Rights Reserved.\u001b[39;00m\n\u001b[0;32m      2\u001b[0m \u001b[38;5;66;03m#\u001b[39;00m\n\u001b[0;32m      3\u001b[0m \u001b[38;5;66;03m# Licensed under the Apache License, Version 2.0 (the \"License\");\u001b[39;00m\n\u001b[1;32m   (...)\u001b[0m\n\u001b[0;32m     13\u001b[0m \u001b[38;5;66;03m# limitations under the License.\u001b[39;00m\n\u001b[0;32m     14\u001b[0m \u001b[38;5;66;03m# ==============================================================================\u001b[39;00m\n\u001b[0;32m     15\u001b[0m \u001b[38;5;124;03m\"\"\"Utility module that contains APIs usable in the generated code.\"\"\"\u001b[39;00m\n\u001b[1;32m---> 17\u001b[0m \u001b[38;5;28;01mfrom\u001b[39;00m \u001b[38;5;21;01mtensorflow\u001b[39;00m\u001b[38;5;21;01m.\u001b[39;00m\u001b[38;5;21;01mpython\u001b[39;00m\u001b[38;5;21;01m.\u001b[39;00m\u001b[38;5;21;01mautograph\u001b[39;00m\u001b[38;5;21;01m.\u001b[39;00m\u001b[38;5;21;01mutils\u001b[39;00m\u001b[38;5;21;01m.\u001b[39;00m\u001b[38;5;21;01mcontext_managers\u001b[39;00m \u001b[38;5;28;01mimport\u001b[39;00m control_dependency_on_returns\n\u001b[0;32m     18\u001b[0m \u001b[38;5;28;01mfrom\u001b[39;00m \u001b[38;5;21;01mtensorflow\u001b[39;00m\u001b[38;5;21;01m.\u001b[39;00m\u001b[38;5;21;01mpython\u001b[39;00m\u001b[38;5;21;01m.\u001b[39;00m\u001b[38;5;21;01mautograph\u001b[39;00m\u001b[38;5;21;01m.\u001b[39;00m\u001b[38;5;21;01mutils\u001b[39;00m\u001b[38;5;21;01m.\u001b[39;00m\u001b[38;5;21;01mmisc\u001b[39;00m \u001b[38;5;28;01mimport\u001b[39;00m alias_tensors\n\u001b[0;32m     19\u001b[0m \u001b[38;5;28;01mfrom\u001b[39;00m \u001b[38;5;21;01mtensorflow\u001b[39;00m\u001b[38;5;21;01m.\u001b[39;00m\u001b[38;5;21;01mpython\u001b[39;00m\u001b[38;5;21;01m.\u001b[39;00m\u001b[38;5;21;01mautograph\u001b[39;00m\u001b[38;5;21;01m.\u001b[39;00m\u001b[38;5;21;01mutils\u001b[39;00m\u001b[38;5;21;01m.\u001b[39;00m\u001b[38;5;21;01mtensor_list\u001b[39;00m \u001b[38;5;28;01mimport\u001b[39;00m dynamic_list_append\n",
      "File \u001b[1;32m~\\AppData\\Roaming\\Python\\Python311\\site-packages\\tensorflow\\python\\autograph\\utils\\context_managers.py:19\u001b[0m\n\u001b[0;32m     15\u001b[0m \u001b[38;5;124;03m\"\"\"Various context managers.\"\"\"\u001b[39;00m\n\u001b[0;32m     17\u001b[0m \u001b[38;5;28;01mimport\u001b[39;00m \u001b[38;5;21;01mcontextlib\u001b[39;00m\n\u001b[1;32m---> 19\u001b[0m \u001b[38;5;28;01mfrom\u001b[39;00m \u001b[38;5;21;01mtensorflow\u001b[39;00m\u001b[38;5;21;01m.\u001b[39;00m\u001b[38;5;21;01mpython\u001b[39;00m\u001b[38;5;21;01m.\u001b[39;00m\u001b[38;5;21;01mframework\u001b[39;00m \u001b[38;5;28;01mimport\u001b[39;00m ops\n\u001b[0;32m     20\u001b[0m \u001b[38;5;28;01mfrom\u001b[39;00m \u001b[38;5;21;01mtensorflow\u001b[39;00m\u001b[38;5;21;01m.\u001b[39;00m\u001b[38;5;21;01mpython\u001b[39;00m\u001b[38;5;21;01m.\u001b[39;00m\u001b[38;5;21;01mops\u001b[39;00m \u001b[38;5;28;01mimport\u001b[39;00m tensor_array_ops\n\u001b[0;32m     23\u001b[0m \u001b[38;5;28;01mdef\u001b[39;00m \u001b[38;5;21mcontrol_dependency_on_returns\u001b[39m(return_value):\n",
      "File \u001b[1;32m~\\AppData\\Roaming\\Python\\Python311\\site-packages\\tensorflow\\python\\framework\\ops.py:32\u001b[0m\n\u001b[0;32m     29\u001b[0m \u001b[38;5;28;01mimport\u001b[39;00m \u001b[38;5;21;01mnumpy\u001b[39;00m \u001b[38;5;28;01mas\u001b[39;00m \u001b[38;5;21;01mnp\u001b[39;00m\n\u001b[0;32m     30\u001b[0m \u001b[38;5;28;01mfrom\u001b[39;00m \u001b[38;5;21;01mnumpy\u001b[39;00m \u001b[38;5;28;01mimport\u001b[39;00m typing \u001b[38;5;28;01mas\u001b[39;00m npt\n\u001b[1;32m---> 32\u001b[0m \u001b[38;5;28;01mfrom\u001b[39;00m \u001b[38;5;21;01mgoogle\u001b[39;00m\u001b[38;5;21;01m.\u001b[39;00m\u001b[38;5;21;01mprotobuf\u001b[39;00m \u001b[38;5;28;01mimport\u001b[39;00m message\n\u001b[0;32m     33\u001b[0m \u001b[38;5;28;01mfrom\u001b[39;00m \u001b[38;5;21;01mtensorflow\u001b[39;00m\u001b[38;5;21;01m.\u001b[39;00m\u001b[38;5;21;01mcore\u001b[39;00m\u001b[38;5;21;01m.\u001b[39;00m\u001b[38;5;21;01mframework\u001b[39;00m \u001b[38;5;28;01mimport\u001b[39;00m attr_value_pb2\n\u001b[0;32m     34\u001b[0m \u001b[38;5;28;01mfrom\u001b[39;00m \u001b[38;5;21;01mtensorflow\u001b[39;00m\u001b[38;5;21;01m.\u001b[39;00m\u001b[38;5;21;01mcore\u001b[39;00m\u001b[38;5;21;01m.\u001b[39;00m\u001b[38;5;21;01mframework\u001b[39;00m \u001b[38;5;28;01mimport\u001b[39;00m full_type_pb2\n",
      "\u001b[1;31mModuleNotFoundError\u001b[0m: No module named 'google.protobuf'"
     ]
    }
   ],
   "source": [
    "import sys\n",
    "\n",
    "# from src.insightface.src.common import face_preprocess\n",
    "from src.insightface.src.common import face_preprocess\n",
    "\n",
    "sys.path.append('../insightface/deploy')\n",
    "sys.path.append('../insightface/src/common')\n",
    "\n",
    "from mtcnn.mtcnn import MTCNN\n",
    "# import face_preprocess\n",
    "import numpy as np\n",
    "import cv2\n",
    "import os\n",
    "from datetime import datetime\n",
    "\n",
    "\n",
    "class TrainingDataCollector:\n",
    "\n",
    "    def __init__(self, args):\n",
    "        self.args = args\n",
    "        # Detector = mtcnn_detector\n",
    "        self.detector = MTCNN()\n",
    "\n",
    "    def collectImagesFromCamera(self):\n",
    "        # initialize video stream\n",
    "        cap = cv2.VideoCapture(0)\n",
    "\n",
    "        # Setup some useful var\n",
    "        faces = 0\n",
    "        frames = 0\n",
    "        max_faces = int(self.args[\"faces\"])\n",
    "        max_bbox = np.zeros(4)\n",
    "\n",
    "        if not (os.path.exists(self.args[\"output\"])):\n",
    "            os.makedirs(self.args[\"output\"])\n",
    "\n",
    "        while faces < max_faces:\n",
    "            ret, frame = cap.read()\n",
    "            frames += 1\n",
    "\n",
    "            dtString = str(datetime.now().microsecond)\n",
    "            # Get all faces on current frame\n",
    "            bboxes = self.detector.detect_faces(frame)\n",
    "\n",
    "            if len(bboxes) != 0:\n",
    "                # Get only the biggest face\n",
    "                max_area = 0\n",
    "                for bboxe in bboxes:\n",
    "                    bbox = bboxe[\"box\"]\n",
    "                    bbox = np.array([bbox[0], bbox[1], bbox[0] + bbox[2], bbox[1] + bbox[3]])\n",
    "                    keypoints = bboxe[\"keypoints\"]\n",
    "                    area = (bbox[2] - bbox[0]) * (bbox[3] - bbox[1])\n",
    "                    if area > max_area:\n",
    "                        max_bbox = bbox\n",
    "                        landmarks = keypoints\n",
    "                        max_area = area\n",
    "\n",
    "                max_bbox = max_bbox[0:4]\n",
    "\n",
    "                # get each of 3 frames\n",
    "                if frames % 3 == 0:\n",
    "                    # convert to face_preprocess.preprocess input\n",
    "                    landmarks = np.array([landmarks[\"left_eye\"][0], landmarks[\"right_eye\"][0], landmarks[\"nose\"][0],\n",
    "                                          landmarks[\"mouth_left\"][0], landmarks[\"mouth_right\"][0],\n",
    "                                          landmarks[\"left_eye\"][1], landmarks[\"right_eye\"][1], landmarks[\"nose\"][1],\n",
    "                                          landmarks[\"mouth_left\"][1], landmarks[\"mouth_right\"][1]])\n",
    "                    landmarks = landmarks.reshape((2, 5)).T\n",
    "                    nimg = face_preprocess.preprocess(frame, max_bbox, landmarks, image_size='112,112')\n",
    "\n",
    "                    cv2.imwrite(os.path.join(self.args[\"output\"], \"{}.jpg\".format(dtString)), nimg)\n",
    "                    cv2.rectangle(frame, (max_bbox[0], max_bbox[1]), (max_bbox[2], max_bbox[3]), (255, 0, 0), 2)\n",
    "                    print(\"[INFO] {} Image Captured\".format(faces + 1))\n",
    "                    faces += 1\n",
    "            cv2.imshow(\"Face detection\", frame)\n",
    "            if cv2.waitKey(1) & 0xFF == ord('q'):\n",
    "                break\n",
    "\n",
    "        cap.release()\n",
    "        cv2.destroyAllWindows()\n"
   ]
  },
  {
   "cell_type": "code",
   "execution_count": 3,
   "metadata": {},
   "outputs": [],
   "source": [
    "def collectImagesFromCamera(self):\n",
    "        # initialize video stream\n",
    "        cap = cv2.VideoCapture(0)"
   ]
  },
  {
   "cell_type": "code",
   "execution_count": 4,
   "metadata": {},
   "outputs": [],
   "source": [
    "import logging\n",
    "\n",
    "\n",
    "def get_logger():\n",
    "    logger = logging.getLogger()\n",
    "    handler = logging.StreamHandler()\n",
    "    formatter = logging.Formatter(\"%(asctime)s %(levelname)s \\t%(message)s\")\n",
    "    handler.setFormatter(formatter)\n",
    "    logger.addHandler(handler)\n",
    "    logger.setLevel(logging.INFO)\n",
    "    return logger\n",
    "\n",
    "\n",
    "class ConfigurationsPOJO:\n",
    "    camNo1 = 'cam1'\n",
    "    camNo2 = 'cam2'\n",
    "    camNo3 = 'cam3'\n",
    "    camNo4 = 'cam4'\n",
    "    TimeFormat = \"%H:%M:%S\"\n",
    "    timezone = 'Asia/Calcutta'\n",
    "    cameraIpLoc = 'rtsp:/admin:admin1234@192.168.1.15:554/ISAPI/Streaming/channels/{}/picture'\n",
    "\n",
    "    # For DeepSort Tracker\n",
    "    deepSortModelPath = \"trackerModels/ckpt.t7\"\n",
    "\n",
    "    # For Yolo Object Detection\n",
    "    yoloV3CfgPath = \"detector/YOLOv3/cfg/yolo_v3.cfg\"\n",
    "    yoloV3WghtsPath = \"trackerModels/yolov3.weights\"\n",
    "    yoloV3CocoNamesPath = \"detector/YOLOv3/cfg/coco.names\"\n",
    "\n",
    "    # For DB Operations\n",
    "    url = \"mongodb://localhost:27017/\"\n",
    "    dbName = \"userDetails\"\n",
    "    collectionName = \"userAttendance\"\n",
    "    collectionNameForUnknwnUser = \"userAttendanceForUnknwnUsr\"\n",
    "\n",
    "    # for Classifier Model path\n",
    "    clssfr_ModelPath = 'faceEmbeddingModels/my_model.h5'\n",
    "\n"
   ]
  },
  {
   "cell_type": "code",
   "execution_count": 6,
   "metadata": {},
   "outputs": [
    {
     "name": "stdout",
     "output_type": "stream",
     "text": [
      "Defaulting to user installation because normal site-packages is not writeable\n",
      "Note: you may need to restart the kernel to use updated packages.\n"
     ]
    },
    {
     "name": "stderr",
     "output_type": "stream",
     "text": [
      "ERROR: Could not find a version that satisfies the requirement src.com_in_ineuron_ai_detectfaces_mtcnn.mtcnn2 (from versions: none)\n",
      "ERROR: No matching distribution found for src.com_in_ineuron_ai_detectfaces_mtcnn.mtcnn2\n",
      "\n",
      "[notice] A new release of pip is available: 24.0 -> 25.0\n",
      "[notice] To update, run: python.exe -m pip install --upgrade pip\n"
     ]
    }
   ],
   "source": [
    "pip install src.com_in_ineuron_ai_detectfaces_mtcnn.mtcnn2"
   ]
  },
  {
   "cell_type": "code",
   "execution_count": 7,
   "metadata": {},
   "outputs": [
    {
     "name": "stdout",
     "output_type": "stream",
     "text": [
      "Defaulting to user installation because normal site-packages is not writeable\n"
     ]
    },
    {
     "name": "stderr",
     "output_type": "stream",
     "text": [
      "ERROR: Could not find a version that satisfies the requirement src.com_in_ineuron_ai_tracker_utils.tools (from versions: none)\n",
      "ERROR: No matching distribution found for src.com_in_ineuron_ai_tracker_utils.tools\n",
      "\n",
      "[notice] A new release of pip is available: 24.0 -> 25.0\n",
      "[notice] To update, run: python.exe -m pip install --upgrade pip\n"
     ]
    }
   ],
   "source": [
    "!pip install src.com_in_ineuron_ai_tracker_utils.tools"
   ]
  },
  {
   "cell_type": "code",
   "execution_count": 8,
   "metadata": {},
   "outputs": [
    {
     "ename": "ModuleNotFoundError",
     "evalue": "No module named 'src.com_in_ineuron_ai_detectfaces_mtcnn'",
     "output_type": "error",
     "traceback": [
      "\u001b[1;31m---------------------------------------------------------------------------\u001b[0m",
      "\u001b[1;31mModuleNotFoundError\u001b[0m                       Traceback (most recent call last)",
      "Cell \u001b[1;32mIn[8], line 3\u001b[0m\n\u001b[0;32m      1\u001b[0m \u001b[38;5;28;01mimport\u001b[39;00m \u001b[38;5;21;01mtensorflow\u001b[39;00m \u001b[38;5;28;01mas\u001b[39;00m \u001b[38;5;21;01mtf\u001b[39;00m\n\u001b[1;32m----> 3\u001b[0m \u001b[38;5;28;01mfrom\u001b[39;00m \u001b[38;5;21;01msrc\u001b[39;00m\u001b[38;5;21;01m.\u001b[39;00m\u001b[38;5;21;01mcom_in_ineuron_ai_detectfaces_mtcnn\u001b[39;00m\u001b[38;5;21;01m.\u001b[39;00m\u001b[38;5;21;01mmtcnn2\u001b[39;00m \u001b[38;5;28;01mimport\u001b[39;00m PNet, RNet, ONet\n\u001b[0;32m      4\u001b[0m \u001b[38;5;28;01mfrom\u001b[39;00m \u001b[38;5;21;01msrc\u001b[39;00m\u001b[38;5;21;01m.\u001b[39;00m\u001b[38;5;21;01mcom_in_ineuron_ai_tracker_utils\u001b[39;00m\u001b[38;5;21;01m.\u001b[39;00m\u001b[38;5;21;01mtools\u001b[39;00m \u001b[38;5;28;01mimport\u001b[39;00m detect_face, get_model_filenames\n\u001b[0;32m      7\u001b[0m \u001b[38;5;66;03m# class FaceDetectorMtcnN(threading.Thread):\u001b[39;00m\n",
      "\u001b[1;31mModuleNotFoundError\u001b[0m: No module named 'src.com_in_ineuron_ai_detectfaces_mtcnn'"
     ]
    }
   ],
   "source": [
    "import tensorflow as tf\n",
    "\n",
    "from src.ai_detect_faces_mtcnn.mtcnn2 import PNet, RNet, ONet\n",
    "from src.ai_tracker_utils.tools import detect_face, get_model_filenames\n",
    "\n",
    "\n",
    "# class FaceDetectorMtcnN(threading.Thread):\n",
    "class FaceDetectorMtcnN():\n",
    "    def __init__(self, args):\n",
    "        # threading.Thread.__init__(self)\n",
    "        self.file_paths = get_model_filenames(args.model_dir)\n",
    "        self.minsize = args.minsize\n",
    "        self.threshold = args.thresholdVal\n",
    "        self.factor = args.factor\n",
    "        self.save_image = args.save_image\n",
    "        self.save_name = args.save_name\n",
    "        # self.img_path = args.image_path\n",
    "\n",
    "    def run(self, img):\n",
    "        # img = cv2.imread(self.img_path)\n",
    "        with tf.device('/gpu:0'):\n",
    "            with tf.Graph().as_default():\n",
    "                config = tf.ConfigProto(allow_soft_placement=True)\n",
    "                with tf.Session(config=config) as sess:\n",
    "                    if len(self.file_paths) == 3:\n",
    "                        image_pnet = tf.placeholder(\n",
    "                            tf.float32, [None, None, None, 3])\n",
    "                        pnet = PNet({'data': image_pnet}, mode='test')\n",
    "                        out_tensor_pnet = pnet.get_all_output()\n",
    "\n",
    "                        image_rnet = tf.placeholder(tf.float32, [None, 24, 24, 3])\n",
    "                        rnet = RNet({'data': image_rnet}, mode='test')\n",
    "                        out_tensor_rnet = rnet.get_all_output()\n",
    "\n",
    "                        image_onet = tf.placeholder(tf.float32, [None, 48, 48, 3])\n",
    "                        onet = ONet({'data': image_onet}, mode='test')\n",
    "                        out_tensor_onet = onet.get_all_output()\n",
    "\n",
    "                        saver_pnet = tf.train.Saver(\n",
    "                                        [v for v in tf.global_variables()\n",
    "                                         if v.name[0:5] == \"pnet/\"])\n",
    "                        saver_rnet = tf.train.Saver(\n",
    "                                        [v for v in tf.global_variables()\n",
    "                                         if v.name[0:5] == \"rnet/\"])\n",
    "                        saver_onet = tf.train.Saver(\n",
    "                                        [v for v in tf.global_variables()\n",
    "                                         if v.name[0:5] == \"onet/\"])\n",
    "\n",
    "                        saver_pnet.restore(sess, self.file_paths[0])\n",
    "\n",
    "                        def pnet_fun(img): return sess.run(\n",
    "                            out_tensor_pnet, feed_dict={image_pnet: img})\n",
    "\n",
    "                        saver_rnet.restore(sess, self.file_paths[1])\n",
    "\n",
    "                        def rnet_fun(img): return sess.run(\n",
    "                            out_tensor_rnet, feed_dict={image_rnet: img})\n",
    "\n",
    "                        saver_onet.restore(sess, self.file_paths[2])\n",
    "\n",
    "                        def onet_fun(img): return sess.run(\n",
    "                            out_tensor_onet, feed_dict={image_onet: img})\n",
    "\n",
    "                    else:\n",
    "                        saver = tf.train.import_meta_graph(self.file_paths[0])\n",
    "                        saver.restore(sess, self.file_paths[1])\n",
    "\n",
    "                        def pnet_fun(img): return sess.run(\n",
    "                            ('softmax/Reshape_1:0',\n",
    "                             'pnet/conv4-2/BiasAdd:0'),\n",
    "                            feed_dict={\n",
    "                                'Placeholder:0': img})\n",
    "\n",
    "                        def rnet_fun(img): return sess.run(\n",
    "                            ('softmax_1/softmax:0',\n",
    "                             'rnet/conv5-2/rnet/conv5-2:0'),\n",
    "                            feed_dict={\n",
    "                                'Placeholder_1:0': img})\n",
    "\n",
    "                        def onet_fun(img): return sess.run(\n",
    "                            ('softmax_2/softmax:0',\n",
    "                             'onet/conv6-2/onet/conv6-2:0',\n",
    "                             'onet/conv6-3/onet/conv6-3:0'),\n",
    "                            feed_dict={\n",
    "                                'Placeholder_2:0': img})\n",
    "\n",
    "                    # start_time = time.time()\n",
    "                    bounding_boxes = detect_face(img, self.minsize,\n",
    "                                                     pnet_fun, rnet_fun, onet_fun,\n",
    "                                                     self.threshold, self.factor)\n",
    "        return bounding_boxes\n",
    "                    "
   ]
  },
  {
   "cell_type": "code",
   "execution_count": null,
   "metadata": {},
   "outputs": [],
   "source": []
  }
 ],
 "metadata": {
  "kernelspec": {
   "display_name": "Python 3",
   "language": "python",
   "name": "python3"
  },
  "language_info": {
   "codemirror_mode": {
    "name": "ipython",
    "version": 3
   },
   "file_extension": ".py",
   "mimetype": "text/x-python",
   "name": "python",
   "nbconvert_exporter": "python",
   "pygments_lexer": "ipython3",
   "version": "3.11.5"
  }
 },
 "nbformat": 4,
 "nbformat_minor": 2
}
